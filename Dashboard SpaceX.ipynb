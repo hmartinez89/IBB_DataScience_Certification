{
 "cells": [
  {
   "cell_type": "code",
   "execution_count": null,
   "id": "bb06e180",
   "metadata": {},
   "outputs": [
    {
     "name": "stdout",
     "output_type": "stream",
     "text": [
      "Dash is running on http://127.0.0.1:8050/\n",
      "\n",
      " * Serving Flask app \"spacex_dash_app\" (lazy loading)\n",
      " * Environment: production\n",
      "\u001b[31m   WARNING: This is a development server. Do not use it in a production deployment.\u001b[0m\n",
      "\u001b[2m   Use a production WSGI server instead.\u001b[0m\n",
      " * Debug mode: off\n"
     ]
    },
    {
     "name": "stderr",
     "output_type": "stream",
     "text": [
      " * Running on http://127.0.0.1:8050/ (Press CTRL+C to quit)\n",
      "127.0.0.1 - - [01/Jul/2022 11:49:51] \"GET / HTTP/1.1\" 200 -\n",
      "127.0.0.1 - - [01/Jul/2022 11:49:51] \"GET /_dash-component-suites/dash/deps/react-dom@16.v2_5_1m1656693781.14.0.min.js HTTP/1.1\" 200 -\n",
      "127.0.0.1 - - [01/Jul/2022 11:49:51] \"GET /_dash-component-suites/dash/deps/prop-types@15.v2_5_1m1656693781.8.1.min.js HTTP/1.1\" 200 -\n",
      "127.0.0.1 - - [01/Jul/2022 11:49:51] \"GET /_dash-component-suites/dash/deps/react@16.v2_5_1m1656693781.14.0.min.js HTTP/1.1\" 200 -\n",
      "127.0.0.1 - - [01/Jul/2022 11:49:51] \"GET /_dash-component-suites/dash/deps/polyfill@7.v2_5_1m1656693781.12.1.min.js HTTP/1.1\" 200 -\n",
      "127.0.0.1 - - [01/Jul/2022 11:49:51] \"GET /_dash-component-suites/dash/dcc/dash_core_components-shared.v2_5_0m1656693781.js HTTP/1.1\" 200 -\n",
      "127.0.0.1 - - [01/Jul/2022 11:49:51] \"GET /_dash-component-suites/dash/dash-renderer/build/dash_renderer.v2_5_1m1656693781.min.js HTTP/1.1\" 200 -\n",
      "127.0.0.1 - - [01/Jul/2022 11:49:51] \"GET /_dash-component-suites/dash/dash_table/bundle.v5_1_3m1656693781.js HTTP/1.1\" 200 -\n",
      "127.0.0.1 - - [01/Jul/2022 11:49:51] \"GET /_dash-component-suites/dash/html/dash_html_components.v2_0_3m1656693781.min.js HTTP/1.1\" 200 -\n",
      "127.0.0.1 - - [01/Jul/2022 11:49:52] \"GET /_dash-component-suites/dash/dcc/dash_core_components.v2_5_0m1656693781.js HTTP/1.1\" 200 -\n",
      "127.0.0.1 - - [01/Jul/2022 11:49:52] \"GET /_dash-layout HTTP/1.1\" 200 -\n",
      "127.0.0.1 - - [01/Jul/2022 11:49:52] \"GET /_dash-dependencies HTTP/1.1\" 200 -\n",
      "127.0.0.1 - - [01/Jul/2022 11:49:52] \"GET /_favicon.ico?v=2.5.1 HTTP/1.1\" 200 -\n",
      "127.0.0.1 - - [01/Jul/2022 11:49:52] \"GET /_dash-component-suites/dash/dcc/async-graph.js HTTP/1.1\" 200 -\n",
      "127.0.0.1 - - [01/Jul/2022 11:49:52] \"GET /_dash-component-suites/dash/dcc/async-dropdown.js HTTP/1.1\" 200 -\n",
      "127.0.0.1 - - [01/Jul/2022 11:49:52] \"GET /_dash-component-suites/dash/dcc/async-slider.js HTTP/1.1\" 200 -\n",
      "127.0.0.1 - - [01/Jul/2022 11:49:52] \"GET /_dash-component-suites/dash/dcc/async-plotlyjs.js HTTP/1.1\" 200 -\n",
      "127.0.0.1 - - [01/Jul/2022 11:50:18] \"POST /_dash-update-component HTTP/1.1\" 200 -\n",
      "127.0.0.1 - - [01/Jul/2022 11:50:18] \"POST /_dash-update-component HTTP/1.1\" 200 -\n",
      "127.0.0.1 - - [01/Jul/2022 11:50:18] \"POST /_dash-update-component HTTP/1.1\" 200 -\n",
      "127.0.0.1 - - [01/Jul/2022 11:50:18] \"POST /_dash-update-component HTTP/1.1\" 200 -\n",
      "127.0.0.1 - - [01/Jul/2022 11:50:18] \"POST /_dash-update-component HTTP/1.1\" 200 -\n",
      "127.0.0.1 - - [01/Jul/2022 11:50:18] \"POST /_dash-update-component HTTP/1.1\" 200 -\n",
      "127.0.0.1 - - [01/Jul/2022 11:50:28] \"POST /_dash-update-component HTTP/1.1\" 200 -\n",
      "127.0.0.1 - - [01/Jul/2022 11:50:28] \"POST /_dash-update-component HTTP/1.1\" 200 -\n",
      "127.0.0.1 - - [01/Jul/2022 11:50:38] \"POST /_dash-update-component HTTP/1.1\" 200 -\n",
      "127.0.0.1 - - [01/Jul/2022 11:50:41] \"POST /_dash-update-component HTTP/1.1\" 200 -\n",
      "127.0.0.1 - - [01/Jul/2022 11:50:44] \"POST /_dash-update-component HTTP/1.1\" 200 -\n",
      "127.0.0.1 - - [01/Jul/2022 11:50:46] \"POST /_dash-update-component HTTP/1.1\" 200 -\n",
      "127.0.0.1 - - [01/Jul/2022 11:50:53] \"POST /_dash-update-component HTTP/1.1\" 200 -\n",
      "127.0.0.1 - - [01/Jul/2022 11:50:56] \"POST /_dash-update-component HTTP/1.1\" 200 -\n",
      "127.0.0.1 - - [01/Jul/2022 11:51:01] \"POST /_dash-update-component HTTP/1.1\" 200 -\n",
      "127.0.0.1 - - [01/Jul/2022 11:51:04] \"POST /_dash-update-component HTTP/1.1\" 200 -\n",
      "127.0.0.1 - - [01/Jul/2022 11:51:09] \"POST /_dash-update-component HTTP/1.1\" 200 -\n",
      "127.0.0.1 - - [01/Jul/2022 11:51:12] \"POST /_dash-update-component HTTP/1.1\" 200 -\n",
      "127.0.0.1 - - [01/Jul/2022 11:51:20] \"POST /_dash-update-component HTTP/1.1\" 200 -\n",
      "127.0.0.1 - - [01/Jul/2022 11:51:20] \"POST /_dash-update-component HTTP/1.1\" 200 -\n",
      "127.0.0.1 - - [01/Jul/2022 18:27:19] \"GET /favicon.ico HTTP/1.1\" 200 -\n",
      "127.0.0.1 - - [01/Jul/2022 18:40:12] \"POST /_dash-update-component HTTP/1.1\" 200 -\n",
      "127.0.0.1 - - [01/Jul/2022 18:40:12] \"POST /_dash-update-component HTTP/1.1\" 200 -\n",
      "127.0.0.1 - - [01/Jul/2022 18:43:57] \"POST /_dash-update-component HTTP/1.1\" 200 -\n",
      "127.0.0.1 - - [01/Jul/2022 18:43:57] \"POST /_dash-update-component HTTP/1.1\" 200 -\n",
      "127.0.0.1 - - [01/Jul/2022 18:52:54] \"POST /_dash-update-component HTTP/1.1\" 200 -\n",
      "127.0.0.1 - - [01/Jul/2022 18:52:54] \"POST /_dash-update-component HTTP/1.1\" 200 -\n",
      "127.0.0.1 - - [01/Jul/2022 19:01:36] \"POST /_dash-update-component HTTP/1.1\" 200 -\n",
      "127.0.0.1 - - [01/Jul/2022 19:01:36] \"POST /_dash-update-component HTTP/1.1\" 200 -\n",
      "127.0.0.1 - - [01/Jul/2022 19:06:39] \"POST /_dash-update-component HTTP/1.1\" 200 -\n",
      "127.0.0.1 - - [01/Jul/2022 19:06:39] \"POST /_dash-update-component HTTP/1.1\" 200 -\n",
      "127.0.0.1 - - [01/Jul/2022 19:09:26] \"POST /_dash-update-component HTTP/1.1\" 200 -\n",
      "127.0.0.1 - - [01/Jul/2022 19:10:07] \"POST /_dash-update-component HTTP/1.1\" 200 -\n",
      "127.0.0.1 - - [01/Jul/2022 19:16:50] \"POST /_dash-update-component HTTP/1.1\" 200 -\n",
      "127.0.0.1 - - [01/Jul/2022 19:16:52] \"POST /_dash-update-component HTTP/1.1\" 200 -\n",
      "127.0.0.1 - - [01/Jul/2022 19:16:54] \"POST /_dash-update-component HTTP/1.1\" 200 -\n",
      "127.0.0.1 - - [01/Jul/2022 19:16:58] \"POST /_dash-update-component HTTP/1.1\" 200 -\n"
     ]
    }
   ],
   "source": [
    "%run spacex_dash_app.py"
   ]
  }
 ],
 "metadata": {
  "kernelspec": {
   "display_name": "Python 3 (ipykernel)",
   "language": "python",
   "name": "python3"
  },
  "language_info": {
   "codemirror_mode": {
    "name": "ipython",
    "version": 3
   },
   "file_extension": ".py",
   "mimetype": "text/x-python",
   "name": "python",
   "nbconvert_exporter": "python",
   "pygments_lexer": "ipython3",
   "version": "3.9.12"
  }
 },
 "nbformat": 4,
 "nbformat_minor": 5
}
